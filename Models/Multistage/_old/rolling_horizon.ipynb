{
 "cells": [
  {
   "cell_type": "markdown",
   "metadata": {},
   "source": [
    "cvxlab - ROLLING HORIZON TEST"
   ]
  },
  {
   "cell_type": "code",
   "execution_count": 1,
   "metadata": {},
   "outputs": [],
   "source": [
    "\n",
    "from data_handler import *\n",
    "import cvxlab as cl\n",
    "\n",
    "H_group = {\n",
    "    1: range(2000, 2030),\n",
    "    2: range(2005, 2030),\n",
    "    3: range(2010, 2030),\n",
    "    4: range(2015, 2030),\n",
    "    5: range(2020, 2030)\n",
    "}\n",
    "\n",
    "main_dir_path = 'C:/Users/baioc/OneDrive - Politecnico di Milano/PhD/CVXLAB/Concepts/Rolling'\n",
    "fh_len = 5\n",
    "delta = 3\n",
    "\n",
    "\n"
   ]
  },
  {
   "cell_type": "markdown",
   "metadata": {},
   "source": [
    "RH1: 2000 - 2030"
   ]
  },
  {
   "cell_type": "code",
   "execution_count": 2,
   "metadata": {},
   "outputs": [
    {
     "name": "stdout",
     "output_type": "stream",
     "text": [
      "Copying model_settings.xlsx to horizon H1\n",
      "Updating sets.xlsx to horizon H1\n",
      "Processing av_h_max.xlsx...\n",
      "Processing av_h_min.xlsx...\n",
      "Processing av_y_max.xlsx...\n",
      "Processing av_y_min.xlsx...\n",
      "Processing cap_max.xlsx...\n",
      "Processing cap_max_y.xlsx...\n",
      "Processing cap_min.xlsx...\n",
      "Processing cap_min_y.xlsx...\n",
      "Processing cap_plan_ex.xlsx...\n",
      "Processing cap_start.xlsx...\n",
      "Processing co.xlsx...\n",
      "Processing c_fix.xlsx...\n",
      "Processing c_inv.xlsx...\n",
      "Processing c_var.xlsx...\n",
      "Processing dc.xlsx...\n",
      "Processing dp.xlsx...\n",
      "Processing dr.xlsx...\n",
      "Processing Iff_h.xlsx...\n",
      "Processing I_ff.xlsx...\n",
      "Processing lt_new.xlsx...\n",
      "Processing lt_res.xlsx...\n",
      "Processing sf.xlsx...\n",
      "Processing u.xlsx...\n",
      "Processing v.xlsx...\n",
      "Processing Y.xlsx...\n"
     ]
    },
    {
     "name": "stderr",
     "output_type": "stream",
     "text": [
      "c:\\Users\\baioc\\Documents\\GitHub\\pyesm\\data_handler.py:79: SettingWithCopyWarning: \n",
      "A value is trying to be set on a copy of a slice from a DataFrame.\n",
      "Try using .loc[row_indexer,col_indexer] = value instead\n",
      "\n",
      "See the caveats in the documentation: https://pandas.pydata.org/pandas-docs/stable/user_guide/indexing.html#returning-a-view-versus-a-copy\n",
      "  df.loc[df['flows_agg_Name']=='Energia elettrica'][ 'values'] = demand_update\n"
     ]
    }
   ],
   "source": [
    "H=1\n",
    "\n",
    "model_dir_name = f'H{H}'\n",
    "\n",
    "\n",
    "pass_model_settings(1, main_dir_path, start = True)\n",
    "update_sets(1, H_group[1], main_dir_path, delta,start=True)\n",
    "update_input_data(1, H_group[1], main_dir_path, delta, fh_len, start=True)\n",
    "\n",
    "# #define model instance\n",
    "# model = cl.Model(\n",
    "#     model_dir_name=model_dir_name,\n",
    "#     main_dir_path=main_dir_path,\n",
    "#     log_level='debug',\n",
    "#     model_settings_from='xlsx',\n",
    "#     multiple_input_files=True,\n",
    "#     use_existing_data=False,\n",
    "#     detailed_validation=True,\n",
    "# )"
   ]
  },
  {
   "cell_type": "code",
   "execution_count": null,
   "metadata": {},
   "outputs": [],
   "source": [
    "import pandas as pd\n",
    "\n",
    "demand = pd.read_excel('C:/Users/baioc/OneDrive - Politecnico di Milano/PhD/CVXLAB/Concepts/Rolling/defaults/demand.xlsx')\n",
    "demand\n",
    "\n"
   ]
  },
  {
   "cell_type": "code",
   "execution_count": null,
   "metadata": {},
   "outputs": [],
   "source": [
    "\n",
    "#load data\n",
    "model.load_model_coordinates()\n",
    "model.initialize_blank_data_structure()\n",
    "model.load_exogenous_data_to_sqlite_database(force_overwrite=True)\n",
    "\n",
    "#initialize model and run\n",
    "model.initialize_problems()\n",
    "model.run_model(\n",
    "    verbose=False,\n",
    "    solver='GUROBI',\n",
    "    integrated_problems=False,\n",
    ")\n",
    "\n",
    "#save results\n",
    "model.load_results_to_database(force_overwrite=True)"
   ]
  },
  {
   "cell_type": "code",
   "execution_count": null,
   "metadata": {},
   "outputs": [],
   "source": [
    "df = model.variable(name='Cap_plan').reset_index().rename(columns={'index': 'year'})\n",
    "df = df.melt(id_vars=['year'], value_name='cap_plan')\n",
    "upper_bound = min(H_group[2]) + delta + fh_len \n",
    "df =df.loc[df['year']< upper_bound]\n",
    "df['year'].unique()"
   ]
  },
  {
   "cell_type": "code",
   "execution_count": null,
   "metadata": {},
   "outputs": [],
   "source": [
    "vals = get_planned_cap(model, delta, fh_len, H_group[1])\n",
    "vals.rename(columns={'year': 'years_Name','variable':'techs_Name', 'cap_plan_ex': 'values'}, inplace=True)\n",
    "vals"
   ]
  },
  {
   "cell_type": "code",
   "execution_count": null,
   "metadata": {},
   "outputs": [],
   "source": [
    "import pandas as pd\n",
    "df = pd.read_excel('C:/Users/baioc/OneDrive - Politecnico di Milano/PhD/CVXLAB/Concepts/Rolling/H2/input_data/cap_plan_ex.xlsx')\n",
    "\n",
    "df.update(vals)\n"
   ]
  },
  {
   "cell_type": "code",
   "execution_count": null,
   "metadata": {},
   "outputs": [],
   "source": [
    "model.variable(name='c_inv', sub_problem_key=0).loc[:,'Geotermico'][0] * model.variable(name='Cap_built').loc[:,'Geotermico'].sum()"
   ]
  },
  {
   "cell_type": "code",
   "execution_count": null,
   "metadata": {},
   "outputs": [],
   "source": [
    "print(model.variable(name='c_fix_tot').loc[:,'Geotermico'].sum())\n",
    "print(model.variable(name='c_fix', sub_problem_key=0).loc[:,'Geotermico'][0] * model.variable(name='Cap_op').loc[:,'Geotermico'].sum())"
   ]
  },
  {
   "cell_type": "code",
   "execution_count": null,
   "metadata": {},
   "outputs": [],
   "source": [
    "print(model.variable(name='c_var_tot').loc['Geotermico',:].sum()/1e10)\n",
    "print(model.variable(name='c_var', sub_problem_key=0).loc['Geotermico']*  model.variable(name='X').loc[:, 'Geotermico'].sum())\n",
    "#   *)"
   ]
  },
  {
   "cell_type": "code",
   "execution_count": null,
   "metadata": {},
   "outputs": [],
   "source": []
  },
  {
   "cell_type": "code",
   "execution_count": null,
   "metadata": {},
   "outputs": [],
   "source": [
    "power = ['Coal Power Plant', 'Eolico', 'CCGT', 'Geotermico', 'Idrico', 'OCGT',\n",
    "       'Impianto ad Olio combustibile', 'PV', 'Impianto a BioGas',\n",
    "       'Impianto a Biomassa']\n",
    "\n",
    "model.variable(name='X').loc[:, power].sum(axis=1)"
   ]
  },
  {
   "cell_type": "code",
   "execution_count": null,
   "metadata": {},
   "outputs": [],
   "source": [
    "Qc = model.variable(name='Q').loc[:,'Energia elettrica - Coal']\n",
    "Qc_h = model.variable(name='Qh', sub_problem_key=0).loc[:,'Energia elettrica - Coal'].sum()*365\n",
    "print(Qc, Qc_h)"
   ]
  },
  {
   "cell_type": "code",
   "execution_count": null,
   "metadata": {},
   "outputs": [],
   "source": [
    "Xc = model.variable(name='X').loc[:,'Coal Power Plant']\n",
    "Xc_h = model.variable(name='Xh', sub_problem_key=0).loc[:,'Coal Power Plant'].sum()*365\n",
    "print(Qc, Qc_h)"
   ]
  },
  {
   "cell_type": "code",
   "execution_count": null,
   "metadata": {},
   "outputs": [],
   "source": []
  },
  {
   "cell_type": "markdown",
   "metadata": {},
   "source": [
    "- - - \n",
    "SAVING/LOADING MODEL INSTANCE\n",
    "\n",
    "In case model instance generation is taking huge time, it is possible to save/load model instance to avoid regenerating it several times.\n",
    "\n",
    "Notice that - for unknown reasons - model instance can be loaded only if it has not already solve (i.e. do not save model instance if you run the model!)"
   ]
  },
  {
   "cell_type": "code",
   "execution_count": null,
   "metadata": {},
   "outputs": [],
   "source": []
  },
  {
   "cell_type": "code",
   "execution_count": null,
   "metadata": {},
   "outputs": [],
   "source": [
    "model.variable(name='Qh_agg', sub_problem_key=0).sum().sum()"
   ]
  },
  {
   "cell_type": "code",
   "execution_count": null,
   "metadata": {},
   "outputs": [],
   "source": [
    "model.variable(name='Q', sub_problem_key=0).loc[2000,\n",
    "                              ['Energia elettrica - Coal',\n",
    "       'Energia elettrica - Eolico', 'Energia elettrica - Gas Naturale',\n",
    "       'Energia elettrica - Geotermico', 'Energia elettrica - Idrico',\n",
    "       'Energia elettrica - Nucleare', 'Energia elettrica - Olio combustibile',\n",
    "       'Energia elettrica - PV', 'Energia elettrica - BioGas',\n",
    "       'Energia elettrica - Biomassa']].sum().sum()"
   ]
  },
  {
   "cell_type": "code",
   "execution_count": null,
   "metadata": {},
   "outputs": [],
   "source": [
    "model.variable(name='Q').loc[:,'Energia elettrica - Coal']"
   ]
  },
  {
   "cell_type": "code",
   "execution_count": null,
   "metadata": {},
   "outputs": [],
   "source": [
    "cl.handle_model_instance(\n",
    "    action='save',\n",
    "    instance=model,\n",
    "    file_name='instance_name'\n",
    ")"
   ]
  },
  {
   "cell_type": "code",
   "execution_count": null,
   "metadata": {},
   "outputs": [],
   "source": [
    "model = cl.handle_model_instance(\n",
    "    action='load'\n",
    "    file_name='file_name',\n",
    "    source_dir_path=r\"D:/git_repos/pyesm/tests/models/integrated/1_coupled_model/instances\",\n",
    ")"
   ]
  },
  {
   "cell_type": "markdown",
   "metadata": {},
   "source": [
    "- - -\n",
    "DATA and SYMBOLIC PROBLEM UPDATE without regenerating Model instance\n",
    "\n",
    "- initialize_problems(): if symbolic problem has modified, upload it and generates a new numerical model\n",
    "\n",
    "- update_database_and_problem(): in case of modifications in input data files (but not in sets, nor in variables structures) and symbolic problem, update database and problem\n",
    "\n",
    "- reinitialize_sqlite_database(): reinitialize sqlite database endogenous variables\n"
   ]
  },
  {
   "cell_type": "code",
   "execution_count": null,
   "metadata": {},
   "outputs": [],
   "source": [
    "# in case of need for generating only one or more data input files/tabs\n",
    "model.generate_input_data_files(table_key_list=[])"
   ]
  },
  {
   "cell_type": "code",
   "execution_count": null,
   "metadata": {},
   "outputs": [],
   "source": [
    "# in case of modifications in symbolic problem only,\n",
    "# update problems dataframe and symbolic problem\n",
    "model.initialize_problems()"
   ]
  },
  {
   "cell_type": "code",
   "execution_count": null,
   "metadata": {},
   "outputs": [],
   "source": [
    "# in case of modifications in input data files (but not in sets, nor in \n",
    "# variables structures) and symbolic problem, update database and problem\n",
    "model.update_database_and_problem()"
   ]
  },
  {
   "cell_type": "code",
   "execution_count": null,
   "metadata": {},
   "outputs": [],
   "source": [
    "# in case of modifications in input data files (but not in sets, nor in \n",
    "# variables structures) and symbolic problem, reinitialize sqlite database for\n",
    "# endogenous variables\n",
    "model.reinitialize_sqlite_database(force_overwrite=True)"
   ]
  },
  {
   "cell_type": "markdown",
   "metadata": {},
   "source": [
    "- - -\n",
    "SOLVE NUMERICAL PROBLEM and ENDOGENOUS DATA EXPORT\n",
    "\n",
    "- run_model(): run model with various settings\n",
    "- load_results_to_database(): once model has successfully solved, load endogenous parameters data to sqlite database.\n",
    "- check_model_results(): check model results compared to an existing database (path and name of the database with the expected results in model settings attributes)"
   ]
  },
  {
   "cell_type": "code",
   "execution_count": null,
   "metadata": {},
   "outputs": [],
   "source": [
    "model.run_model(\n",
    "    verbose=False,\n",
    "    solver='GUROBI',\n",
    "    integrated_problems=True,\n",
    ")"
   ]
  },
  {
   "cell_type": "code",
   "execution_count": null,
   "metadata": {},
   "outputs": [],
   "source": [
    "model.load_results_to_database(force_overwrite=True)"
   ]
  },
  {
   "cell_type": "code",
   "execution_count": null,
   "metadata": {},
   "outputs": [],
   "source": [
    "model.check_model_results()"
   ]
  },
  {
   "cell_type": "markdown",
   "metadata": {},
   "source": [
    "- - -\n",
    "UTILITIES\n",
    "\n",
    "- sets(): list of model sets\n",
    "- variables(): dictionary with variable name (key) and shape of teh variable (value)\n",
    "- variable(name, ...): visual check of variables content in the database\n",
    "- set(name): visual check of sets content in the database"
   ]
  },
  {
   "cell_type": "code",
   "execution_count": null,
   "metadata": {},
   "outputs": [],
   "source": [
    "model.variables\n",
    "model.sets"
   ]
  },
  {
   "cell_type": "code",
   "execution_count": null,
   "metadata": {},
   "outputs": [],
   "source": [
    "model.set('products')"
   ]
  },
  {
   "cell_type": "code",
   "execution_count": null,
   "metadata": {},
   "outputs": [],
   "source": [
    "model.variable(name='L',)"
   ]
  }
 ],
 "metadata": {
  "kernelspec": {
   "display_name": "esm",
   "language": "python",
   "name": "python3"
  },
  "language_info": {
   "codemirror_mode": {
    "name": "ipython",
    "version": 3
   },
   "file_extension": ".py",
   "mimetype": "text/x-python",
   "name": "python",
   "nbconvert_exporter": "python",
   "pygments_lexer": "ipython3",
   "version": "3.10.13"
  },
  "orig_nbformat": 4
 },
 "nbformat": 4,
 "nbformat_minor": 2
}
